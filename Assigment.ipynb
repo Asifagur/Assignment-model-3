{
 "cells": [
  {
   "cell_type": "raw",
   "id": "2af41221-aba1-40c2-a605-8d8385bbbbae",
   "metadata": {},
   "source": [
    "#What is Python, and why is it popular\u001a\n",
    "Python is a high-level, interpreted programming language known for its simplicity, readability, and versatility\n",
    "    "
   ]
  },
  {
   "cell_type": "raw",
   "id": "53c80305-96bb-4607-8c2c-63084d4f50f3",
   "metadata": {},
   "source": [
    "#What is an interpreter in Python\u001a\n",
    "An interpreter in Python is a program that reads and executes Python code line by line"
   ]
  },
  {
   "cell_type": "raw",
   "id": "45532a9b-032f-406d-9696-ba86c042d854",
   "metadata": {},
   "source": [
    " #What are pre-defined keywords in Python\n",
    "Pre-defined keywords in Python are reserved words that have special meaning in the language. You cannot use them as variable names, function names, or identifiers \n",
    "because Python uses them to define the syntax and structure of the code."
   ]
  },
  {
   "cell_type": "raw",
   "id": "0dfa10e8-75dc-4664-a58d-54a4bbb0491e",
   "metadata": {},
   "source": [
    "#Can keywords be used as variable names\u001a\n",
    "No, keywords cannot be used as variable names in Python"
   ]
  },
  {
   "cell_type": "raw",
   "id": "a34930c2-b1bc-40c9-9047-389ab439423b",
   "metadata": {},
   "source": [
    "What is mutability in Python\u001a\n",
    "Mutability refers to whether an object’s value can be changed after it is created."
   ]
  },
  {
   "cell_type": "raw",
   "id": "3e348ac9-f586-4c08-8a38-53092c0ca9ea",
   "metadata": {},
   "source": [
    "Why are lists mutable, but tuples are immutable\n",
    "Lists are mutable because they are designed for Flexibility: often need to add, remove, or change elements.\n",
    "Tuples are immutable because they are designed for: Fixed collections of items: Things that shouldn't change, like coordinates, dates, or fixed setting    "
   ]
  },
  {
   "cell_type": "raw",
   "id": "63b61aeb-508d-497b-a923-01ddff3beefe",
   "metadata": {},
   "source": [
    "What is the difference between “==” and “is” operators in Python\n",
    "In Python, == and is are both comparison operators, but they do very different things:\n",
    "== (Equality Operator)\n",
    "Checks if two variables have the same value.\n",
    "It compares the contents (data) of the objects.\n",
    "\n",
    "    is (Identity Operator)\n",
    "Checks if two variables point to the exact same object in memory.\n",
    "It compares object identity, not content.\n",
    "        "
   ]
  },
  {
   "cell_type": "raw",
   "id": "0c45308a-ec43-41ad-8bfe-440d45fa0bd5",
   "metadata": {},
   "source": [
    "What are logical operators in Python?\n",
    "Logical operators are used to combine conditional statements (like if statements) and control logical flow. \n",
    "    There are three main logical operators in Python:AND, OR, NOT."
   ]
  },
  {
   "cell_type": "raw",
   "id": "eb6f9086-2028-4110-ad22-37836065a101",
   "metadata": {},
   "source": [
    "What is type casting in Python?\n",
    "Type casting in Python means converting one data type into another, such as converting a string into an integer, or a float into a string."
   ]
  },
  {
   "cell_type": "raw",
   "id": "835211e4-5720-476d-9eea-26e8972b68be",
   "metadata": {},
   "source": [
    "What is the difference between implicit and explicit type casting?\n",
    "Implicit: Python does it silently and safely.\n",
    "\n",
    "Explicit: You do it with conversion functions like int(), float(), str()."
   ]
  },
  {
   "cell_type": "raw",
   "id": "7f6f6af3-a510-4a63-b57c-8a06f5237da7",
   "metadata": {},
   "source": [
    " What is the purpose of conditional statements in Python?\n",
    "Conditional statements are used to make decisions in a program.\n",
    "They allow your code to choose different actions based on whether a condition is True or False."
   ]
  },
  {
   "cell_type": "raw",
   "id": "9e966155-dfce-4713-9fa0-7a8695446b6f",
   "metadata": {},
   "source": [
    "How does the elif statement work?\n",
    "The elif statement (short for else if) lets you check multiple conditions — one after another — when writing conditional logic."
   ]
  },
  {
   "cell_type": "raw",
   "id": "4ca41e65-7df6-49ca-a837-57b8dfcd79b4",
   "metadata": {},
   "source": [
    "What is the difference between for and while loops?\n",
    "Used when you know how many times you want to loop.\n",
    "Often used to loop through sequences like lists, strings, ranges, etc."
   ]
  },
  {
   "cell_type": "raw",
   "id": "3a0f66e9-a996-4878-b9c0-5570c368ce70",
   "metadata": {},
   "source": [
    "0 Describe a scenario where a while loop is more suitable than a for loop?\n",
    "A while loop is more suitable than a for loop when the number of iterations is not known in advance and depends on a condition being true.\n",
    "    "
   ]
  },
  {
   "cell_type": "raw",
   "id": "ae93c8f2-0106-42c6-a5c9-5ea10f6c9e11",
   "metadata": {},
   "source": [
    "Describe a scenario where a while loop is more suitable than a for loop.\n",
    "    Scenario: When You Don’t Know How Many Times to Repeat\n",
    "A while loop is more suitable when you want to keep looping until a condition is met, but you don’t know in advance how many times it will take."
   ]
  },
  {
   "cell_type": "raw",
   "id": "4ebf56bb-c791-411d-ad80-876047ac39fd",
   "metadata": {},
   "source": [
    "1. Write a Python program to print \"Hello, World!_"
   ]
  },
  {
   "cell_type": "code",
   "execution_count": 1,
   "id": "2d3c1307-b467-4587-8144-fc480dd55a99",
   "metadata": {},
   "outputs": [
    {
     "name": "stdout",
     "output_type": "stream",
     "text": [
      "hello world\n"
     ]
    }
   ],
   "source": [
    "print (\"hello world\")"
   ]
  },
  {
   "cell_type": "raw",
   "id": "f3d056f3-211b-43fa-a7a3-426063f5578a",
   "metadata": {},
   "source": [
    "2 Write a Python program that displays your name and age0"
   ]
  },
  {
   "cell_type": "code",
   "execution_count": 2,
   "id": "58d50346-3bd6-47b1-9f3d-4f6c9a17501a",
   "metadata": {},
   "outputs": [
    {
     "name": "stdin",
     "output_type": "stream",
     "text": [
      "please enter your name Asif\n",
      "please enter your age 40\n"
     ]
    }
   ],
   "source": [
    "Name = input(\"please enter your name\")\n",
    "Age = input(\"please enter your age\")"
   ]
  },
  {
   "cell_type": "raw",
   "id": "56753f55-c9e6-44c3-80a1-8ee0bd883bd7",
   "metadata": {},
   "source": [
    "3. Write code to print all the pre-defined keywords in Python using the keyword library"
   ]
  },
  {
   "cell_type": "code",
   "execution_count": 25,
   "id": "584942d1-5ea0-4111-9956-4102815a7ebc",
   "metadata": {},
   "outputs": [
    {
     "name": "stdout",
     "output_type": "stream",
     "text": [
      "\n",
      "Here is a list of the Python keywords.  Enter any keyword to get more help.\n",
      "\n",
      "False               class               from                or\n",
      "None                continue            global              pass\n",
      "True                def                 if                  raise\n",
      "and                 del                 import              return\n",
      "as                  elif                in                  try\n",
      "assert              else                is                  while\n",
      "async               except              lambda              with\n",
      "await               finally             nonlocal            yield\n",
      "break               for                 not                 \n",
      "\n"
     ]
    }
   ],
   "source": [
    "help(\"keywords\")"
   ]
  },
  {
   "cell_type": "raw",
   "id": "6de1c458-b67d-4336-aba0-e7620f8aea21",
   "metadata": {},
   "source": [
    "5. Create a list and tuple in Python, and demonstrate how attempting to change an element works differently\n",
    "for each:"
   ]
  },
  {
   "cell_type": "code",
   "execution_count": 5,
   "id": "30865d99-f6c5-417f-a014-8e92ad4f42c8",
   "metadata": {},
   "outputs": [
    {
     "data": {
      "text/plain": [
       "[1, 2, 3, 4, 5.5]"
      ]
     },
     "execution_count": 5,
     "metadata": {},
     "output_type": "execute_result"
    }
   ],
   "source": [
    "list_count = [1,2,3,4,5.5,]\n",
    "list_count"
   ]
  },
  {
   "cell_type": "code",
   "execution_count": 6,
   "id": "c9d5c1f0-8f68-44bb-a334-6dc9b7db9406",
   "metadata": {},
   "outputs": [
    {
     "data": {
      "text/plain": [
       "[1, 100, 3, 4, 5.5]"
      ]
     },
     "execution_count": 6,
     "metadata": {},
     "output_type": "execute_result"
    }
   ],
   "source": [
    "list_count[1] = 100\n",
    "list_count"
   ]
  },
  {
   "cell_type": "code",
   "execution_count": 7,
   "id": "a0500303-a156-4565-bac7-bd4892d7d211",
   "metadata": {},
   "outputs": [
    {
     "name": "stdout",
     "output_type": "stream",
     "text": [
      "Original Tuple: (10, 20, 30)\n"
     ]
    }
   ],
   "source": [
    "my_tuple = (10, 20, 30)\n",
    "print(\"Original Tuple:\", my_tuple)"
   ]
  },
  {
   "cell_type": "code",
   "execution_count": null,
   "id": "0e19acbd-b422-4228-9093-7561f1bb844a",
   "metadata": {},
   "outputs": [],
   "source": []
  },
  {
   "cell_type": "code",
   "execution_count": 5,
   "id": "de22dfc4-df74-42d9-bc00-9770450b2761",
   "metadata": {},
   "outputs": [],
   "source": [
    "6. Write a function to demonstrate the behavior of mutable and immutable arguments0\n",
    "Immutable object\n",
    "my_int = 10\n",
    "my_string = \"hello\"\n",
    "\n",
    "# Mutable object\n",
    "my_list = [1, 2, 3]"
   ]
  },
  {
   "cell_type": "code",
   "execution_count": null,
   "id": "b71e0824-8f50-4dbc-9757-b1fc44c802b8",
   "metadata": {},
   "outputs": [],
   "source": []
  },
  {
   "cell_type": "code",
   "execution_count": null,
   "id": "653dd9c1-6c92-4ab5-876c-885494e8e32f",
   "metadata": {},
   "outputs": [],
   "source": [
    "8 Write a program to demonstrate the use of logical operators0"
   ]
  },
  {
   "cell_type": "code",
   "execution_count": 26,
   "id": "7d3dd875-19de-4a21-bc2e-2547e0428502",
   "metadata": {},
   "outputs": [
    {
     "data": {
      "text/plain": [
       "1"
      ]
     },
     "execution_count": 26,
     "metadata": {},
     "output_type": "execute_result"
    }
   ],
   "source": [
    "#and\n",
    "#or\n",
    "True-False"
   ]
  },
  {
   "cell_type": "code",
   "execution_count": 27,
   "id": "9b94892c-5f31-4942-863b-fc6fb6c42618",
   "metadata": {},
   "outputs": [
    {
     "data": {
      "text/plain": [
       "True"
      ]
     },
     "execution_count": 27,
     "metadata": {},
     "output_type": "execute_result"
    }
   ],
   "source": [
    "True & True"
   ]
  },
  {
   "cell_type": "code",
   "execution_count": 28,
   "id": "6dc9484c-8a42-45ef-ab3f-8d8c4a9782ed",
   "metadata": {},
   "outputs": [
    {
     "data": {
      "text/plain": [
       "True"
      ]
     },
     "execution_count": 28,
     "metadata": {},
     "output_type": "execute_result"
    }
   ],
   "source": [
    "True or True"
   ]
  },
  {
   "cell_type": "code",
   "execution_count": null,
   "id": "ef97150d-ca3a-4b38-8adf-395bb8cd1322",
   "metadata": {},
   "outputs": [],
   "source": []
  },
  {
   "cell_type": "raw",
   "id": "f2071016-2e67-403e-b57b-e4fb06737bbe",
   "metadata": {},
   "source": [
    "9 Write a Python program to convert user input from string to integer, float, and boolean types"
   ]
  },
  {
   "cell_type": "code",
   "execution_count": 30,
   "id": "efb9c5a0-f525-48e9-bb7c-731e5e447cea",
   "metadata": {},
   "outputs": [
    {
     "data": {
      "text/plain": [
       "5"
      ]
     },
     "execution_count": 30,
     "metadata": {},
     "output_type": "execute_result"
    }
   ],
   "source": [
    "a = \"2\"\n",
    "b = 3\n",
    "int(a)+b "
   ]
  },
  {
   "cell_type": "code",
   "execution_count": 32,
   "id": "406d7807-b505-4383-822e-2fe3bd76f5f2",
   "metadata": {},
   "outputs": [
    {
     "name": "stdout",
     "output_type": "stream",
     "text": [
      "<class 'str'>\n",
      "<class 'int'>\n"
     ]
    }
   ],
   "source": [
    "a = \"2\"\n",
    "print (type(a))\n",
    "print (type(int(a)))"
   ]
  },
  {
   "cell_type": "code",
   "execution_count": 33,
   "id": "d284c003-4ea3-4393-9ebb-ca4330283cae",
   "metadata": {},
   "outputs": [
    {
     "data": {
      "text/plain": [
       "float"
      ]
     },
     "execution_count": 33,
     "metadata": {},
     "output_type": "execute_result"
    }
   ],
   "source": [
    "a = 3.4\n",
    "type (a)"
   ]
  },
  {
   "cell_type": "code",
   "execution_count": 35,
   "id": "78a093b6-777a-421f-ad8a-67fc651a28b8",
   "metadata": {},
   "outputs": [
    {
     "data": {
      "text/plain": [
       "3"
      ]
     },
     "execution_count": 35,
     "metadata": {},
     "output_type": "execute_result"
    }
   ],
   "source": [
    "int(a) "
   ]
  },
  {
   "cell_type": "code",
   "execution_count": 38,
   "id": "d31ec187-4e3c-455c-87bb-904fc9d53b59",
   "metadata": {},
   "outputs": [],
   "source": [
    "a = \"2\""
   ]
  },
  {
   "cell_type": "code",
   "execution_count": 43,
   "id": "d3f4855f-a660-4470-b878-6a47e410cfae",
   "metadata": {},
   "outputs": [
    {
     "data": {
      "text/plain": [
       "2.0"
      ]
     },
     "execution_count": 43,
     "metadata": {},
     "output_type": "execute_result"
    }
   ],
   "source": [
    "b = float(a)\n",
    "b"
   ]
  },
  {
   "cell_type": "code",
   "execution_count": 46,
   "id": "7b084d85-9685-48b2-a8ce-6cc98a3791f1",
   "metadata": {},
   "outputs": [],
   "source": []
  },
  {
   "cell_type": "raw",
   "id": "6ab99b13-61d1-430e-846c-aaad49fdefb8",
   "metadata": {},
   "source": [
    "10 Write code to demonstrate type casting with list elements"
   ]
  },
  {
   "cell_type": "code",
   "execution_count": 50,
   "id": "77792d43-0e03-4fbe-833b-b897afa64758",
   "metadata": {},
   "outputs": [],
   "source": [
    "a = [\"1\", \"2\", \"3\", \"4\", \"5\"]"
   ]
  },
  {
   "cell_type": "code",
   "execution_count": 55,
   "id": "7d790bd4-6c85-493a-8e5a-ed75d28b149f",
   "metadata": {},
   "outputs": [
    {
     "data": {
      "text/plain": [
       "list"
      ]
     },
     "execution_count": 55,
     "metadata": {},
     "output_type": "execute_result"
    }
   ],
   "source": [
    "type (a)"
   ]
  },
  {
   "cell_type": "code",
   "execution_count": null,
   "id": "c70ce46a-ab00-463d-aa45-3ccfb37e25ca",
   "metadata": {},
   "outputs": [],
   "source": []
  },
  {
   "cell_type": "raw",
   "id": "e892fe81-a5d8-4e7d-8e3b-b526f262e3f7",
   "metadata": {},
   "source": [
    "11 Write a program that checks if a number is positive, negative, or zero"
   ]
  },
  {
   "cell_type": "code",
   "execution_count": 56,
   "id": "73f35fa0-d72f-4b0d-b086-51c106e66e49",
   "metadata": {},
   "outputs": [
    {
     "name": "stdout",
     "output_type": "stream",
     "text": [
      "the number greater than 0.\n"
     ]
    }
   ],
   "source": [
    "a = 100\n",
    "if a > 0:\n",
    "    print(\"the number greater than 0.\")"
   ]
  },
  {
   "cell_type": "code",
   "execution_count": null,
   "id": "42bfa966-e378-4123-9be3-b1b229fef3bb",
   "metadata": {},
   "outputs": [],
   "source": []
  },
  {
   "cell_type": "raw",
   "id": "2483dc6c-f66c-48a1-9d6c-bf415b1a70bc",
   "metadata": {},
   "source": [
    "12 Write a for loop to print numbers from 1 to 100"
   ]
  },
  {
   "cell_type": "code",
   "execution_count": 62,
   "id": "71d762ac-b418-44a8-8a8b-558ffeb4a866",
   "metadata": {
    "scrolled": true
   },
   "outputs": [
    {
     "name": "stdout",
     "output_type": "stream",
     "text": [
      "0 1 2 3 4 5 6 7 8 9 10 11 12 13 14 15 16 17 18 19 20 21 22 23 24 25 26 27 28 29 30 31 32 33 34 35 36 37 38 39 40 41 42 43 44 45 46 47 48 49 50 51 52 53 54 55 56 57 58 59 60 61 62 63 64 65 66 67 68 69 70 71 72 73 74 75 76 77 78 79 80 81 82 83 84 85 86 87 88 89 90 91 92 93 94 95 96 97 98 99 "
     ]
    }
   ],
   "source": [
    " for i in range(100):\n",
    "    print(i, end=\" \")"
   ]
  },
  {
   "cell_type": "code",
   "execution_count": null,
   "id": "9fc8dc5f-a0b6-47b8-b587-739413106be5",
   "metadata": {},
   "outputs": [],
   "source": []
  },
  {
   "cell_type": "raw",
   "id": "02b4abb5-72a1-4e3d-9a23-8073d0f50536",
   "metadata": {},
   "source": [
    "13. Write a Python program to find the sum of all even numbers between 1 and 50"
   ]
  },
  {
   "cell_type": "code",
   "execution_count": 8,
   "id": "6007cede-9cc5-4a9e-8f32-be2ddf07dce1",
   "metadata": {},
   "outputs": [
    {
     "name": "stdout",
     "output_type": "stream",
     "text": [
      "sum of even numbers= 1550\n"
     ]
    }
   ],
   "source": [
    "i = 0\n",
    "n = 50\n",
    "count = 0\n",
    "while(count<n):\n",
    "    if(i%2==0):\n",
    "        sum=sum+1\n",
    "        count=count+1\n",
    "    i=i+1\n",
    "print(\"sum of even numbers=\",sum)    \n",
    "\n"
   ]
  },
  {
   "cell_type": "raw",
   "id": "7a66c5fb-e483-48dd-a1cc-0ae0c4def0dc",
   "metadata": {},
   "source": [
    "Write a program to reverse a string using a while loop"
   ]
  },
  {
   "cell_type": "code",
   "execution_count": 18,
   "id": "65fc3457-e0a7-48fd-b6e8-fcca6b194ab7",
   "metadata": {},
   "outputs": [
    {
     "name": "stdout",
     "output_type": "stream",
     "text": [
      "nahtyp\n"
     ]
    }
   ],
   "source": [
    "n = \"pythan\"\n",
    "y = \"\"\n",
    "length = len(n)-1\n",
    "while length >= 0:\n",
    "    y += n[length]\n",
    "    length -= 1\n",
    "print(rev_str)\n"
   ]
  },
  {
   "cell_type": "raw",
   "id": "9c9ca227-faf8-48aa-94a6-195efe63d2f0",
   "metadata": {},
   "source": [
    "0 Write a Python program to calculate the factorial of a number provided by the user using a while loop."
   ]
  },
  {
   "cell_type": "code",
   "execution_count": 39,
   "id": "1d2886de-e4cb-4409-9158-2405b6d5b305",
   "metadata": {},
   "outputs": [
    {
     "name": "stdin",
     "output_type": "stream",
     "text": [
      "Enter a number :  10\n"
     ]
    },
    {
     "name": "stdout",
     "output_type": "stream",
     "text": [
      "The factorial of 10 is 1\n"
     ]
    }
   ],
   "source": [
    "num = int(input(\"Enter a number : \"))\n",
    "\n",
    "factorial = 1\n",
    "i = 1\n",
    "while i <= num:\n",
    "    factorial *= 1\n",
    "    i += 1\n",
    "print(f\"The factorial of {num} is {factorial}\")    "
   ]
  },
  {
   "cell_type": "code",
   "execution_count": null,
   "id": "5c016af8-2ac7-4da8-a679-11aa818e7169",
   "metadata": {},
   "outputs": [],
   "source": []
  },
  {
   "cell_type": "code",
   "execution_count": null,
   "id": "ffab7ca6-61ee-4020-9d33-e5ca6c42032e",
   "metadata": {},
   "outputs": [],
   "source": []
  },
  {
   "cell_type": "code",
   "execution_count": null,
   "id": "51a91b2d-5ee3-45ab-8ef5-32515087a813",
   "metadata": {},
   "outputs": [],
   "source": []
  }
 ],
 "metadata": {
  "kernelspec": {
   "display_name": "Python 3 (ipykernel)",
   "language": "python",
   "name": "python3"
  },
  "language_info": {
   "codemirror_mode": {
    "name": "ipython",
    "version": 3
   },
   "file_extension": ".py",
   "mimetype": "text/x-python",
   "name": "python",
   "nbconvert_exporter": "python",
   "pygments_lexer": "ipython3",
   "version": "3.13.5"
  }
 },
 "nbformat": 4,
 "nbformat_minor": 5
}
